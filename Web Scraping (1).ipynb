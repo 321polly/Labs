{
 "cells": [
  {
   "cell_type": "code",
   "execution_count": 1,
   "metadata": {},
   "outputs": [
    {
     "name": "stdout",
     "output_type": "stream",
     "text": [
      "Collecting package metadata (current_repodata.json): done\n",
      "Solving environment: - \n",
      "Warning: 4 possible package resolutions (only showing differing packages):\n",
      "  - anaconda/osx-64::ca-certificates-2020.10.14-0, anaconda/osx-64::openssl-1.1.1h-haf1e3a3_0\n",
      "  - anaconda/osx-64::openssl-1.1.1h-haf1e3a3_0, defaults/osx-64::ca-certificates-2020.10.14-0\n",
      "  - anaconda/osx-64::ca-certificates-2020.10.14-0, defaults/osx-64::openssl-1.1.1h-haf1e3a3_0\n",
      "  - defaults/osx-64::ca-certificates-2020.10.14-0, defaults/osx-64::openssl-1.1.1h-haf1e3a3done\n",
      "\n",
      "# All requested packages already installed.\n",
      "\n",
      "\n",
      "Note: you may need to restart the kernel to use updated packages.\n"
     ]
    }
   ],
   "source": [
    "conda install -c conda-forge requests\n"
   ]
  },
  {
   "cell_type": "code",
   "execution_count": 23,
   "metadata": {},
   "outputs": [],
   "source": [
    "from bs4 import BeautifulSoup\n",
    "import requests\n",
    "import pandas as pd"
   ]
  },
  {
   "cell_type": "code",
   "execution_count": 24,
   "metadata": {},
   "outputs": [],
   "source": [
    "url = 'https://www.billboard.com/charts/hot-100'"
   ]
  },
  {
   "cell_type": "code",
   "execution_count": 25,
   "metadata": {},
   "outputs": [],
   "source": [
    "response = requests.get(url)\n"
   ]
  },
  {
   "cell_type": "code",
   "execution_count": 26,
   "metadata": {},
   "outputs": [
    {
     "name": "stdout",
     "output_type": "stream",
     "text": [
      "<Response [200]>\n"
     ]
    }
   ],
   "source": [
    "print(response)"
   ]
  },
  {
   "cell_type": "code",
   "execution_count": 37,
   "metadata": {},
   "outputs": [],
   "source": [
    "soup = BeautifulSoup(response.content, \"html.parser\")"
   ]
  },
  {
   "cell_type": "code",
   "execution_count": 53,
   "metadata": {
    "collapsed": true,
    "jupyter": {
     "outputs_hidden": true
    }
   },
   "outputs": [
    {
     "data": {
      "text/plain": [
       "[<span class=\"chart-element__information__song text--truncate color--primary\">Drivers License</span>,\n",
       " <span class=\"chart-element__information__song text--truncate color--primary\">Up</span>,\n",
       " <span class=\"chart-element__information__song text--truncate color--primary\">Blinding Lights</span>,\n",
       " <span class=\"chart-element__information__song text--truncate color--primary\">Save Your Tears</span>,\n",
       " <span class=\"chart-element__information__song text--truncate color--primary\">Mood</span>,\n",
       " <span class=\"chart-element__information__song text--truncate color--primary\">34+35</span>,\n",
       " <span class=\"chart-element__information__song text--truncate color--primary\">Go Crazy</span>,\n",
       " <span class=\"chart-element__information__song text--truncate color--primary\">Levitating</span>,\n",
       " <span class=\"chart-element__information__song text--truncate color--primary\">Positions</span>,\n",
       " <span class=\"chart-element__information__song text--truncate color--primary\">What You Know Bout Love</span>,\n",
       " <span class=\"chart-element__information__song text--truncate color--primary\">Whoopty</span>,\n",
       " <span class=\"chart-element__information__song text--truncate color--primary\">For The Night</span>,\n",
       " <span class=\"chart-element__information__song text--truncate color--primary\">Good Days</span>,\n",
       " <span class=\"chart-element__information__song text--truncate color--primary\">Holy</span>,\n",
       " <span class=\"chart-element__information__song text--truncate color--primary\">Therefore I Am</span>,\n",
       " <span class=\"chart-element__information__song text--truncate color--primary\">Lonely</span>,\n",
       " <span class=\"chart-element__information__song text--truncate color--primary\">Back In Blood</span>,\n",
       " <span class=\"chart-element__information__song text--truncate color--primary\">Better Together</span>,\n",
       " <span class=\"chart-element__information__song text--truncate color--primary\">Dakiti</span>,\n",
       " <span class=\"chart-element__information__song text--truncate color--primary\">I Hope</span>,\n",
       " <span class=\"chart-element__information__song text--truncate color--primary\">Body</span>,\n",
       " <span class=\"chart-element__information__song text--truncate color--primary\">Streets</span>,\n",
       " <span class=\"chart-element__information__song text--truncate color--primary\">Bang!</span>,\n",
       " <span class=\"chart-element__information__song text--truncate color--primary\">You Broke Me First.</span>,\n",
       " <span class=\"chart-element__information__song text--truncate color--primary\">My Ex's Best Friend</span>,\n",
       " <span class=\"chart-element__information__song text--truncate color--primary\">You're Mines Still</span>,\n",
       " <span class=\"chart-element__information__song text--truncate color--primary\">Lemonade</span>,\n",
       " <span class=\"chart-element__information__song text--truncate color--primary\">Cry Baby</span>,\n",
       " <span class=\"chart-element__information__song text--truncate color--primary\">Willow</span>,\n",
       " <span class=\"chart-element__information__song text--truncate color--primary\">Laugh Now Cry Later</span>,\n",
       " <span class=\"chart-element__information__song text--truncate color--primary\">On Me</span>,\n",
       " <span class=\"chart-element__information__song text--truncate color--primary\">Before You Go</span>,\n",
       " <span class=\"chart-element__information__song text--truncate color--primary\">Throat Baby (Go Baby)</span>,\n",
       " <span class=\"chart-element__information__song text--truncate color--primary\">Anyone</span>,\n",
       " <span class=\"chart-element__information__song text--truncate color--primary\">Good Time</span>,\n",
       " <span class=\"chart-element__information__song text--truncate color--primary\">Wasted On You</span>,\n",
       " <span class=\"chart-element__information__song text--truncate color--primary\">Time Today</span>,\n",
       " <span class=\"chart-element__information__song text--truncate color--primary\">Sand In My Boots</span>,\n",
       " <span class=\"chart-element__information__song text--truncate color--primary\">Hole In The Bottle</span>,\n",
       " <span class=\"chart-element__information__song text--truncate color--primary\">Starting Over</span>,\n",
       " <span class=\"chart-element__information__song text--truncate color--primary\">Best Friend</span>,\n",
       " <span class=\"chart-element__information__song text--truncate color--primary\">Just The Way</span>,\n",
       " <span class=\"chart-element__information__song text--truncate color--primary\">Dynamite</span>,\n",
       " <span class=\"chart-element__information__song text--truncate color--primary\">Without You</span>,\n",
       " <span class=\"chart-element__information__song text--truncate color--primary\">Put Your Records On</span>,\n",
       " <span class=\"chart-element__information__song text--truncate color--primary\">Beers And Sunshine</span>,\n",
       " <span class=\"chart-element__information__song text--truncate color--primary\">Damage</span>,\n",
       " <span class=\"chart-element__information__song text--truncate color--primary\">Kings &amp; Queens</span>,\n",
       " <span class=\"chart-element__information__song text--truncate color--primary\">Rockstar</span>,\n",
       " <span class=\"chart-element__information__song text--truncate color--primary\">Down To One</span>,\n",
       " <span class=\"chart-element__information__song text--truncate color--primary\">Neighbors</span>,\n",
       " <span class=\"chart-element__information__song text--truncate color--primary\">Somebody's Problem</span>,\n",
       " <span class=\"chart-element__information__song text--truncate color--primary\">Beat Box</span>,\n",
       " <span class=\"chart-element__information__song text--truncate color--primary\">What's Your Country Song</span>,\n",
       " <span class=\"chart-element__information__song text--truncate color--primary\">GNF (OKOKOK)</span>,\n",
       " <span class=\"chart-element__information__song text--truncate color--primary\">The Good Ones</span>,\n",
       " <span class=\"chart-element__information__song text--truncate color--primary\">Afterglow</span>,\n",
       " <span class=\"chart-element__information__song text--truncate color--primary\">Golden</span>,\n",
       " <span class=\"chart-element__information__song text--truncate color--primary\">Goosebumps</span>,\n",
       " <span class=\"chart-element__information__song text--truncate color--primary\">Buss It</span>,\n",
       " <span class=\"chart-element__information__song text--truncate color--primary\">Long Live</span>,\n",
       " <span class=\"chart-element__information__song text--truncate color--primary\">Monsters</span>,\n",
       " <span class=\"chart-element__information__song text--truncate color--primary\">Glad You Exist</span>,\n",
       " <span class=\"chart-element__information__song text--truncate color--primary\">Provide</span>,\n",
       " <span class=\"chart-element__information__song text--truncate color--primary\">Tyler Herro</span>,\n",
       " <span class=\"chart-element__information__song text--truncate color--primary\">Cover Me Up</span>,\n",
       " <span class=\"chart-element__information__song text--truncate color--primary\">Forever After All</span>,\n",
       " <span class=\"chart-element__information__song text--truncate color--primary\">Lady</span>,\n",
       " <span class=\"chart-element__information__song text--truncate color--primary\">Heat Waves</span>,\n",
       " <span class=\"chart-element__information__song text--truncate color--primary\">Happy Does</span>,\n",
       " <span class=\"chart-element__information__song text--truncate color--primary\">Girl Like Me</span>,\n",
       " <span class=\"chart-element__information__song text--truncate color--primary\">Momma's House</span>,\n",
       " <span class=\"chart-element__information__song text--truncate color--primary\">Hell Of A View</span>,\n",
       " <span class=\"chart-element__information__song text--truncate color--primary\">So Done</span>,\n",
       " <span class=\"chart-element__information__song text--truncate color--primary\">Back To The Streets</span>,\n",
       " <span class=\"chart-element__information__song text--truncate color--primary\">865</span>,\n",
       " <span class=\"chart-element__information__song text--truncate color--primary\">Finesse Out The Gang Way</span>,\n",
       " <span class=\"chart-element__information__song text--truncate color--primary\">Bichota</span>,\n",
       " <span class=\"chart-element__information__song text--truncate color--primary\">Somebody Like That</span>,\n",
       " <span class=\"chart-element__information__song text--truncate color--primary\">Still Trappin'</span>,\n",
       " <span class=\"chart-element__information__song text--truncate color--primary\">Box Of Churches</span>,\n",
       " <span class=\"chart-element__information__song text--truncate color--primary\">My Head And My Heart</span>,\n",
       " <span class=\"chart-element__information__song text--truncate color--primary\">Bad Boy</span>,\n",
       " <span class=\"chart-element__information__song text--truncate color--primary\">No More Parties</span>,\n",
       " <span class=\"chart-element__information__song text--truncate color--primary\">Moonwalking In Calabasas</span>,\n",
       " <span class=\"chart-element__information__song text--truncate color--primary\">Big, Big Plans</span>,\n",
       " <span class=\"chart-element__information__song text--truncate color--primary\">Bandido</span>,\n",
       " <span class=\"chart-element__information__song text--truncate color--primary\">You Got It</span>,\n",
       " <span class=\"chart-element__information__song text--truncate color--primary\">Pick Up Your Feelings</span>,\n",
       " <span class=\"chart-element__information__song text--truncate color--primary\">Dangerous</span>,\n",
       " <span class=\"chart-element__information__song text--truncate color--primary\">Monster</span>,\n",
       " <span class=\"chart-element__information__song text--truncate color--primary\">One Too Many</span>,\n",
       " <span class=\"chart-element__information__song text--truncate color--primary\">Warning</span>,\n",
       " <span class=\"chart-element__information__song text--truncate color--primary\">Still Goin Down</span>,\n",
       " <span class=\"chart-element__information__song text--truncate color--primary\">Lifestyle</span>,\n",
       " <span class=\"chart-element__information__song text--truncate color--primary\">Almost Maybes</span>,\n",
       " <span class=\"chart-element__information__song text--truncate color--primary\">Masterpiece</span>,\n",
       " <span class=\"chart-element__information__song text--truncate color--primary\">Prisoner</span>,\n",
       " <span class=\"chart-element__information__song text--truncate color--primary\">Skin</span>,\n",
       " <span class=\"chart-element__information__song text--truncate color--primary\">Quicksand</span>]"
      ]
     },
     "execution_count": 53,
     "metadata": {},
     "output_type": "execute_result"
    }
   ],
   "source": [
    "#all songs\n",
    "songs = soup.find_all(class_ = \"chart-element__information__song\")"
   ]
  },
  {
   "cell_type": "code",
   "execution_count": 54,
   "metadata": {
    "collapsed": true,
    "jupyter": {
     "outputs_hidden": true
    }
   },
   "outputs": [
    {
     "data": {
      "text/plain": [
       "[<span class=\"chart-element__information__artist text--truncate color--secondary\">Olivia Rodrigo</span>,\n",
       " <span class=\"chart-element__information__artist text--truncate color--secondary\">Cardi B</span>,\n",
       " <span class=\"chart-element__information__artist text--truncate color--secondary\">The Weeknd</span>,\n",
       " <span class=\"chart-element__information__artist text--truncate color--secondary\">The Weeknd</span>,\n",
       " <span class=\"chart-element__information__artist text--truncate color--secondary\">24kGoldn Featuring iann dior</span>,\n",
       " <span class=\"chart-element__information__artist text--truncate color--secondary\">Ariana Grande</span>,\n",
       " <span class=\"chart-element__information__artist text--truncate color--secondary\">Chris Brown &amp; Young Thug</span>,\n",
       " <span class=\"chart-element__information__artist text--truncate color--secondary\">Dua Lipa Featuring DaBaby</span>,\n",
       " <span class=\"chart-element__information__artist text--truncate color--secondary\">Ariana Grande</span>,\n",
       " <span class=\"chart-element__information__artist text--truncate color--secondary\">Pop Smoke</span>,\n",
       " <span class=\"chart-element__information__artist text--truncate color--secondary\">CJ</span>,\n",
       " <span class=\"chart-element__information__artist text--truncate color--secondary\">Pop Smoke Featuring Lil Baby &amp; DaBaby</span>,\n",
       " <span class=\"chart-element__information__artist text--truncate color--secondary\">SZA</span>,\n",
       " <span class=\"chart-element__information__artist text--truncate color--secondary\">Justin Bieber Featuring Chance The Rapper</span>,\n",
       " <span class=\"chart-element__information__artist text--truncate color--secondary\">Billie Eilish</span>,\n",
       " <span class=\"chart-element__information__artist text--truncate color--secondary\">Justin Bieber &amp; benny blanco</span>,\n",
       " <span class=\"chart-element__information__artist text--truncate color--secondary\">Pooh Shiesty Featuring Lil Durk</span>,\n",
       " <span class=\"chart-element__information__artist text--truncate color--secondary\">Luke Combs</span>,\n",
       " <span class=\"chart-element__information__artist text--truncate color--secondary\">Bad Bunny &amp; Jhay Cortez</span>,\n",
       " <span class=\"chart-element__information__artist text--truncate color--secondary\">Gabby Barrett Featuring Charlie Puth</span>,\n",
       " <span class=\"chart-element__information__artist text--truncate color--secondary\">Megan Thee Stallion</span>,\n",
       " <span class=\"chart-element__information__artist text--truncate color--secondary\">Doja Cat</span>,\n",
       " <span class=\"chart-element__information__artist text--truncate color--secondary\">AJR</span>,\n",
       " <span class=\"chart-element__information__artist text--truncate color--secondary\">Tate McRae</span>,\n",
       " <span class=\"chart-element__information__artist text--truncate color--secondary\">Machine Gun Kelly X blackbear</span>,\n",
       " <span class=\"chart-element__information__artist text--truncate color--secondary\">Yung Bleu Featuring Drake</span>,\n",
       " <span class=\"chart-element__information__artist text--truncate color--secondary\">Internet Money &amp; Gunna Featuring Don Toliver &amp; NAV</span>,\n",
       " <span class=\"chart-element__information__artist text--truncate color--secondary\">Megan Thee Stallion Featuring DaBaby</span>,\n",
       " <span class=\"chart-element__information__artist text--truncate color--secondary\">Taylor Swift</span>,\n",
       " <span class=\"chart-element__information__artist text--truncate color--secondary\">Drake Featuring Lil Durk</span>,\n",
       " <span class=\"chart-element__information__artist text--truncate color--secondary\">Lil Baby</span>,\n",
       " <span class=\"chart-element__information__artist text--truncate color--secondary\">Lewis Capaldi</span>,\n",
       " <span class=\"chart-element__information__artist text--truncate color--secondary\">BRS Kash</span>,\n",
       " <span class=\"chart-element__information__artist text--truncate color--secondary\">Justin Bieber</span>,\n",
       " <span class=\"chart-element__information__artist text--truncate color--secondary\">Niko Moon</span>,\n",
       " <span class=\"chart-element__information__artist text--truncate color--secondary\">Morgan Wallen</span>,\n",
       " <span class=\"chart-element__information__artist text--truncate color--secondary\">Moneybagg Yo</span>,\n",
       " <span class=\"chart-element__information__artist text--truncate color--secondary\">Morgan Wallen</span>,\n",
       " <span class=\"chart-element__information__artist text--truncate color--secondary\">Kelsea Ballerini</span>,\n",
       " <span class=\"chart-element__information__artist text--truncate color--secondary\">Chris Stapleton</span>,\n",
       " <span class=\"chart-element__information__artist text--truncate color--secondary\">Saweetie Featuring Doja Cat</span>,\n",
       " <span class=\"chart-element__information__artist text--truncate color--secondary\">Parmalee x Blanco Brown</span>,\n",
       " <span class=\"chart-element__information__artist text--truncate color--secondary\">BTS</span>,\n",
       " <span class=\"chart-element__information__artist text--truncate color--secondary\">The Kid LAROI</span>,\n",
       " <span class=\"chart-element__information__artist text--truncate color--secondary\">Ritt Momney</span>,\n",
       " <span class=\"chart-element__information__artist text--truncate color--secondary\">Darius Rucker</span>,\n",
       " <span class=\"chart-element__information__artist text--truncate color--secondary\">H.E.R.</span>,\n",
       " <span class=\"chart-element__information__artist text--truncate color--secondary\">Ava Max</span>,\n",
       " <span class=\"chart-element__information__artist text--truncate color--secondary\">DaBaby Featuring Roddy Ricch</span>,\n",
       " <span class=\"chart-element__information__artist text--truncate color--secondary\">Luke Bryan</span>,\n",
       " <span class=\"chart-element__information__artist text--truncate color--secondary\">Pooh Shiesty Featuring BIG30</span>,\n",
       " <span class=\"chart-element__information__artist text--truncate color--secondary\">Morgan Wallen</span>,\n",
       " <span class=\"chart-element__information__artist text--truncate color--secondary\">SpotemGottem</span>,\n",
       " <span class=\"chart-element__information__artist text--truncate color--secondary\">Thomas Rhett</span>,\n",
       " <span class=\"chart-element__information__artist text--truncate color--secondary\">Polo G</span>,\n",
       " <span class=\"chart-element__information__artist text--truncate color--secondary\">Gabby Barrett</span>,\n",
       " <span class=\"chart-element__information__artist text--truncate color--secondary\">Ed Sheeran</span>,\n",
       " <span class=\"chart-element__information__artist text--truncate color--secondary\">Harry Styles</span>,\n",
       " <span class=\"chart-element__information__artist text--truncate color--secondary\">Travis Scott &amp; HVME</span>,\n",
       " <span class=\"chart-element__information__artist text--truncate color--secondary\">Erica Banks</span>,\n",
       " <span class=\"chart-element__information__artist text--truncate color--secondary\">Florida Georgia Line</span>,\n",
       " <span class=\"chart-element__information__artist text--truncate color--secondary\">All Time Low Featuring Demi Lovato &amp; blackbear </span>,\n",
       " <span class=\"chart-element__information__artist text--truncate color--secondary\">Dan + Shay</span>,\n",
       " <span class=\"chart-element__information__artist text--truncate color--secondary\">G-Eazy Featuring Chris Brown &amp; Mark Morrison</span>,\n",
       " <span class=\"chart-element__information__artist text--truncate color--secondary\">Jack Harlow</span>,\n",
       " <span class=\"chart-element__information__artist text--truncate color--secondary\">Morgan Wallen</span>,\n",
       " <span class=\"chart-element__information__artist text--truncate color--secondary\">Luke Combs</span>,\n",
       " <span class=\"chart-element__information__artist text--truncate color--secondary\">Brett Young</span>,\n",
       " <span class=\"chart-element__information__artist text--truncate color--secondary\">Glass Animals</span>,\n",
       " <span class=\"chart-element__information__artist text--truncate color--secondary\">Kenny Chesney</span>,\n",
       " <span class=\"chart-element__information__artist text--truncate color--secondary\">Black Eyed Peas X Shakira</span>,\n",
       " <span class=\"chart-element__information__artist text--truncate color--secondary\">Dustin Lynch</span>,\n",
       " <span class=\"chart-element__information__artist text--truncate color--secondary\">Eric Church</span>,\n",
       " <span class=\"chart-element__information__artist text--truncate color--secondary\">The Kid LAROI</span>,\n",
       " <span class=\"chart-element__information__artist text--truncate color--secondary\">Saweetie Featuring Jhene Aiko</span>,\n",
       " <span class=\"chart-element__information__artist text--truncate color--secondary\">Morgan Wallen</span>,\n",
       " <span class=\"chart-element__information__artist text--truncate color--secondary\">Lil Durk Featuring Lil Baby</span>,\n",
       " <span class=\"chart-element__information__artist text--truncate color--secondary\">Karol G</span>,\n",
       " <span class=\"chart-element__information__artist text--truncate color--secondary\">Tenille Arts</span>,\n",
       " <span class=\"chart-element__information__artist text--truncate color--secondary\">Lil Durk &amp; King Von</span>,\n",
       " <span class=\"chart-element__information__artist text--truncate color--secondary\">Pooh Shiesty Featuring 21 Savage</span>,\n",
       " <span class=\"chart-element__information__artist text--truncate color--secondary\">Ava Max</span>,\n",
       " <span class=\"chart-element__information__artist text--truncate color--secondary\">Juice WRLD &amp; Young Thug</span>,\n",
       " <span class=\"chart-element__information__artist text--truncate color--secondary\">Coi Leray</span>,\n",
       " <span class=\"chart-element__information__artist text--truncate color--secondary\">DDG</span>,\n",
       " <span class=\"chart-element__information__artist text--truncate color--secondary\">Chris Lane</span>,\n",
       " <span class=\"chart-element__information__artist text--truncate color--secondary\">Myke Towers &amp; Juhn</span>,\n",
       " <span class=\"chart-element__information__artist text--truncate color--secondary\">VEDO</span>,\n",
       " <span class=\"chart-element__information__artist text--truncate color--secondary\">Jazmine Sullivan</span>,\n",
       " <span class=\"chart-element__information__artist text--truncate color--secondary\">Morgan Wallen</span>,\n",
       " <span class=\"chart-element__information__artist text--truncate color--secondary\">Shawn Mendes &amp; Justin Bieber</span>,\n",
       " <span class=\"chart-element__information__artist text--truncate color--secondary\">Keith Urban Duet With P!nk</span>,\n",
       " <span class=\"chart-element__information__artist text--truncate color--secondary\">Morgan Wallen</span>,\n",
       " <span class=\"chart-element__information__artist text--truncate color--secondary\">Morgan Wallen</span>,\n",
       " <span class=\"chart-element__information__artist text--truncate color--secondary\">Jason Derulo Featuring Adam Levine</span>,\n",
       " <span class=\"chart-element__information__artist text--truncate color--secondary\">Jordan Davis</span>,\n",
       " <span class=\"chart-element__information__artist text--truncate color--secondary\">DaBaby</span>,\n",
       " <span class=\"chart-element__information__artist text--truncate color--secondary\">Miley Cyrus Featuring Dua Lipa</span>,\n",
       " <span class=\"chart-element__information__artist text--truncate color--secondary\">Sabrina Carpenter</span>,\n",
       " <span class=\"chart-element__information__artist text--truncate color--secondary\">Morray</span>]"
      ]
     },
     "execution_count": 54,
     "metadata": {},
     "output_type": "execute_result"
    }
   ],
   "source": [
    "#all artists \n",
    "artists = soup.find_all(class_ = \"chart-element__information__artist\")"
   ]
  },
  {
   "cell_type": "code",
   "execution_count": 62,
   "metadata": {},
   "outputs": [],
   "source": [
    "# just the song title\n",
    "song = [song.get_text ()for song in songs]"
   ]
  },
  {
   "cell_type": "code",
   "execution_count": null,
   "metadata": {},
   "outputs": [],
   "source": []
  },
  {
   "cell_type": "code",
   "execution_count": 63,
   "metadata": {},
   "outputs": [],
   "source": [
    "#just the artist \n",
    "artist = [artist.get_text() for artist in artists]"
   ]
  },
  {
   "cell_type": "code",
   "execution_count": 64,
   "metadata": {},
   "outputs": [],
   "source": [
    "df = pd.DataFrame({'artist': artist,\n",
    "                 'song': song})"
   ]
  },
  {
   "cell_type": "code",
   "execution_count": 65,
   "metadata": {},
   "outputs": [
    {
     "data": {
      "text/html": [
       "<div>\n",
       "<style scoped>\n",
       "    .dataframe tbody tr th:only-of-type {\n",
       "        vertical-align: middle;\n",
       "    }\n",
       "\n",
       "    .dataframe tbody tr th {\n",
       "        vertical-align: top;\n",
       "    }\n",
       "\n",
       "    .dataframe thead th {\n",
       "        text-align: right;\n",
       "    }\n",
       "</style>\n",
       "<table border=\"1\" class=\"dataframe\">\n",
       "  <thead>\n",
       "    <tr style=\"text-align: right;\">\n",
       "      <th></th>\n",
       "      <th>artist</th>\n",
       "      <th>song</th>\n",
       "    </tr>\n",
       "  </thead>\n",
       "  <tbody>\n",
       "    <tr>\n",
       "      <th>0</th>\n",
       "      <td>Olivia Rodrigo</td>\n",
       "      <td>Drivers License</td>\n",
       "    </tr>\n",
       "    <tr>\n",
       "      <th>1</th>\n",
       "      <td>Cardi B</td>\n",
       "      <td>Up</td>\n",
       "    </tr>\n",
       "    <tr>\n",
       "      <th>2</th>\n",
       "      <td>The Weeknd</td>\n",
       "      <td>Blinding Lights</td>\n",
       "    </tr>\n",
       "    <tr>\n",
       "      <th>3</th>\n",
       "      <td>The Weeknd</td>\n",
       "      <td>Save Your Tears</td>\n",
       "    </tr>\n",
       "    <tr>\n",
       "      <th>4</th>\n",
       "      <td>24kGoldn Featuring iann dior</td>\n",
       "      <td>Mood</td>\n",
       "    </tr>\n",
       "  </tbody>\n",
       "</table>\n",
       "</div>"
      ],
      "text/plain": [
       "                         artist             song\n",
       "0                Olivia Rodrigo  Drivers License\n",
       "1                       Cardi B               Up\n",
       "2                    The Weeknd  Blinding Lights\n",
       "3                    The Weeknd  Save Your Tears\n",
       "4  24kGoldn Featuring iann dior             Mood"
      ]
     },
     "execution_count": 65,
     "metadata": {},
     "output_type": "execute_result"
    }
   ],
   "source": [
    "df.head()"
   ]
  },
  {
   "cell_type": "code",
   "execution_count": 67,
   "metadata": {},
   "outputs": [],
   "source": [
    "#starting the index at 1\n",
    "df.index += 1"
   ]
  },
  {
   "cell_type": "code",
   "execution_count": 69,
   "metadata": {},
   "outputs": [
    {
     "data": {
      "text/html": [
       "<div>\n",
       "<style scoped>\n",
       "    .dataframe tbody tr th:only-of-type {\n",
       "        vertical-align: middle;\n",
       "    }\n",
       "\n",
       "    .dataframe tbody tr th {\n",
       "        vertical-align: top;\n",
       "    }\n",
       "\n",
       "    .dataframe thead th {\n",
       "        text-align: right;\n",
       "    }\n",
       "</style>\n",
       "<table border=\"1\" class=\"dataframe\">\n",
       "  <thead>\n",
       "    <tr style=\"text-align: right;\">\n",
       "      <th></th>\n",
       "      <th>artist</th>\n",
       "      <th>song</th>\n",
       "    </tr>\n",
       "  </thead>\n",
       "  <tbody>\n",
       "    <tr>\n",
       "      <th>1</th>\n",
       "      <td>Olivia Rodrigo</td>\n",
       "      <td>Drivers License</td>\n",
       "    </tr>\n",
       "    <tr>\n",
       "      <th>2</th>\n",
       "      <td>Cardi B</td>\n",
       "      <td>Up</td>\n",
       "    </tr>\n",
       "    <tr>\n",
       "      <th>3</th>\n",
       "      <td>The Weeknd</td>\n",
       "      <td>Blinding Lights</td>\n",
       "    </tr>\n",
       "    <tr>\n",
       "      <th>4</th>\n",
       "      <td>The Weeknd</td>\n",
       "      <td>Save Your Tears</td>\n",
       "    </tr>\n",
       "    <tr>\n",
       "      <th>5</th>\n",
       "      <td>24kGoldn Featuring iann dior</td>\n",
       "      <td>Mood</td>\n",
       "    </tr>\n",
       "  </tbody>\n",
       "</table>\n",
       "</div>"
      ],
      "text/plain": [
       "                         artist             song\n",
       "1                Olivia Rodrigo  Drivers License\n",
       "2                       Cardi B               Up\n",
       "3                    The Weeknd  Blinding Lights\n",
       "4                    The Weeknd  Save Your Tears\n",
       "5  24kGoldn Featuring iann dior             Mood"
      ]
     },
     "execution_count": 69,
     "metadata": {},
     "output_type": "execute_result"
    }
   ],
   "source": [
    "df.head()"
   ]
  },
  {
   "cell_type": "code",
   "execution_count": 22,
   "metadata": {},
   "outputs": [],
   "source": []
  },
  {
   "cell_type": "code",
   "execution_count": null,
   "metadata": {},
   "outputs": [],
   "source": []
  },
  {
   "cell_type": "code",
   "execution_count": null,
   "metadata": {},
   "outputs": [],
   "source": []
  },
  {
   "cell_type": "code",
   "execution_count": null,
   "metadata": {},
   "outputs": [],
   "source": []
  }
 ],
 "metadata": {
  "kernelspec": {
   "display_name": "Python 3",
   "language": "python",
   "name": "python3"
  },
  "language_info": {
   "codemirror_mode": {
    "name": "ipython",
    "version": 3
   },
   "file_extension": ".py",
   "mimetype": "text/x-python",
   "name": "python",
   "nbconvert_exporter": "python",
   "pygments_lexer": "ipython3",
   "version": "3.8.5"
  }
 },
 "nbformat": 4,
 "nbformat_minor": 4
}
